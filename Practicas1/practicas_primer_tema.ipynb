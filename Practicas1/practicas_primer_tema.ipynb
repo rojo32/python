{
 "cells": [
  {
   "cell_type": "markdown",
   "metadata": {},
   "source": [
    "# Practice your skills loading data from a CSV file\n",
    "In this exercise, you will load a CSV file and you'll perform some operations on it to extract data. If you know how to do this with the Pandas library, you can use that. If not, you can use the csv library with the ready-to-use example this notebook provides."
   ]
  },
  {
   "cell_type": "code",
   "execution_count": null,
   "metadata": {},
   "outputs": [],
   "source": [
    "from csv import DictReader\n",
    "\n",
    "# Open the CSV file and read it into a list of dictionaries and ignore unicode errors\n",
    "\n",
    "with open('wine-ratings-small.csv', encoding='utf-8', errors='ignore') as f:\n",
    "    reader = DictReader(f)\n",
    "    wines = list(reader)\n",
    "\n",
    "\n",
    "# The wines variable is now a list of dictionaries, one for each row in the CSV file. This is the sample output of a single entry:\n",
    "# {'': '1',\n",
    "#  'name': 'Laurenz V Charming Gruner Veltliner 2014',\n",
    "#  'grape': '',\n",
    "#  'region': 'Kamptal, Austria',\n",
    "#  'variety': 'White Wine',\n",
    "#  'rating': '90.0',\n",
    "#  'notes': ''}\n",
    "\n"
   ]
  },
  {
   "cell_type": "code",
   "execution_count": 1,
   "metadata": {},
   "outputs": [
    {
     "ename": "ModuleNotFoundError",
     "evalue": "No module named 'panda'",
     "output_type": "error",
     "traceback": [
      "\u001b[0;31m---------------------------------------------------------------------------\u001b[0m",
      "\u001b[0;31mModuleNotFoundError\u001b[0m                       Traceback (most recent call last)",
      "\u001b[0;32m/tmp/ipykernel_25991/1126761947.py\u001b[0m in \u001b[0;36m<module>\u001b[0;34m\u001b[0m\n\u001b[0;32m----> 1\u001b[0;31m \u001b[0;32mimport\u001b[0m \u001b[0mpanda\u001b[0m \u001b[0;32mas\u001b[0m \u001b[0mpd\u001b[0m\u001b[0;34m\u001b[0m\u001b[0;34m\u001b[0m\u001b[0m\n\u001b[0m",
      "\u001b[0;31mModuleNotFoundError\u001b[0m: No module named 'panda'"
     ]
    }
   ],
   "source": [
    "import panda as pd"
   ]
  },
  {
   "cell_type": "markdown",
   "metadata": {},
   "source": [
    "Looping over the list of dictionaries can be tricky with plain Python. Specialized libraries like Pandas make this much easier but the downside is that you need to learn a new library. The following code is a bit more verbose but it's a good exercise to learn how to work with dictionaries in Python.\n"
   ]
  },
  {
   "cell_type": "code",
   "execution_count": null,
   "metadata": {},
   "outputs": [],
   "source": [
    "# This example creates a new list that only has wines from Napa Valley. The new list is called napa_wines:\n",
    "napa_wines = []\n",
    "for wine in wines:\n",
    "    if 'Napa' in wine['region']:\n",
    "        napa_wines.append(wine)\n",
    "\n",
    "napa_wines"
   ]
  },
  {
   "cell_type": "markdown",
   "metadata": {},
   "source": [
    "**NOTE**: If you are trying to use ratings, remember that you will need to convert the ratings to integers for numerical comparisons."
   ]
  },
  {
   "cell_type": "markdown",
   "metadata": {},
   "source": [
    "## Using Pandas\n",
    "Alternatively, you can use the Pandas library to load the CSV file and then extract the data. You'll need to install the Pandas library first. You can do this with the following command:\n",
    "\n",
    "```bash\n",
    "pip install pandas\n",
    "```\n",
    "\n",
    "Then, you can use the following code to load the CSV file and extract the data:\n",
    "\n",
    "```python\n",
    "import pandas as pd\n",
    "\n",
    "df = pd.read_csv('sample_data/wine-ratings-small.csv')\n",
    "df.head()\n",
    "```"
   ]
  },
  {
   "cell_type": "code",
   "execution_count": null,
   "metadata": {},
   "outputs": [],
   "source": [
    "import pandas as pd\n",
    "df = pd.read_csv(\"sample_data/wine-ratings-small.csv\", index_col=0) # read the csv file and set the index column to 0\n",
    "df.head() # show the first 5 rows of the dataframe\n"
   ]
  },
  {
   "cell_type": "markdown",
   "metadata": {},
   "source": [
    "## Manipulate data with Pandas or as a dictionary\n",
    "At this point, you can use Pandas if you know how to use it. Otherwise, you can use the data as a dictionary. You can use the following code to extract the data:\n",
    "\n",
    "```python\n",
    "data = df.to_dict()\n",
    "```"
   ]
  },
  {
   "cell_type": "code",
   "execution_count": null,
   "metadata": {},
   "outputs": [],
   "source": [
    "dict_data = df.to_dict()\n",
    "# You'll get several keys, one for each column in the dataframe. You can access the values of a column by using the column name as a key. You'll also\n",
    "# get the index of each row as a key. You can access the values of a row by using the index as a key.\n",
    "\n",
    "dict_data['name'] # get the values of the 'name' column\n",
    "# sample output:\n",
    "# {0: 'Laurenz V Charming Gruner Veltliner 2013',\n",
    "# 1: 'Laurenz V Charming Gruner Veltliner 2014', ...}\n"
   ]
  },
  {
   "cell_type": "code",
   "execution_count": null,
   "metadata": {},
   "outputs": [],
   "source": [
    "# if you want to get the values of a row, you can use the index of the row as a key, but you have to use it for every column you need. For example:\n",
    "print(dict_data['name'][0], # get the value of the 'name' column for the row with index 0\n",
    "dict_data['rating'][0], # get the value of the 'rating' column for the row with index 0\n",
    "dict_data['region'][0], # get the value of the 'region' column for the row with index 0\n",
    ")\n",
    "\n"
   ]
  }
 ],
 "metadata": {
  "kernelspec": {
   "display_name": "Python 3 (ipykernel)",
   "language": "python",
   "name": "python3"
  },
  "language_info": {
   "codemirror_mode": {
    "name": "ipython",
    "version": 3
   },
   "file_extension": ".py",
   "mimetype": "text/x-python",
   "name": "python",
   "nbconvert_exporter": "python",
   "pygments_lexer": "ipython3",
   "version": "3.10.12"
  }
 },
 "nbformat": 4,
 "nbformat_minor": 2
}
